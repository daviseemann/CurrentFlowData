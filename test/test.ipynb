{
 "cells": [
  {
   "cell_type": "code",
   "execution_count": 10,
   "metadata": {},
   "outputs": [
    {
     "name": "stdout",
     "output_type": "stream",
     "text": [
      "User: postgres\n",
      "Password: admin321\n",
      "Database: current_flow_db\n",
      "Erro ao conectar ao banco de dados PostgreSQL: connection to server at \"localhost\" (::1), port 5432 failed: FATAL:  password authentication failed for user \"postgres\"\n",
      "\n"
     ]
    }
   ],
   "source": [
    "import os\n",
    "from dotenv import load_dotenv\n",
    "import psycopg2\n",
    "\n",
    "load_dotenv()\n",
    "\n",
    "print(f\"User: {os.getenv('POSTGRES_USER')}\")\n",
    "print(f\"Password: {os.getenv('POSTGRES_PASSWORD')}\")\n",
    "print(f\"Database: {os.getenv('POSTGRES_DB')}\")\n",
    "\n",
    "try:\n",
    "    connection = psycopg2.connect(\n",
    "        host=\"localhost\",\n",
    "        port=\"5432\",\n",
    "        database=os.getenv('POSTGRES_DB'),\n",
    "        user=os.getenv('POSTGRES_USER'),\n",
    "        password=os.getenv('POSTGRES_PASSWORD')\n",
    "    )\n",
    "    cursor = connection.cursor()\n",
    "    cursor.execute(\"SELECT version();\")\n",
    "    db_version = cursor.fetchone()\n",
    "    print(f\"Conectado ao PostgreSQL, versão: {db_version}\")\n",
    "\n",
    "except (Exception, psycopg2.Error) as error:\n",
    "    print(\"Erro ao conectar ao banco de dados PostgreSQL:\", error)\n",
    "\n",
    "finally:\n",
    "    if 'connection' in locals() and connection:\n",
    "        cursor.close()\n",
    "        connection.close()\n",
    "        print(\"Conexão com PostgreSQL fechada\")\n"
   ]
  },
  {
   "cell_type": "code",
   "execution_count": null,
   "metadata": {},
   "outputs": [],
   "source": []
  }
 ],
 "metadata": {
  "kernelspec": {
   "display_name": "current-flow",
   "language": "python",
   "name": "python3"
  },
  "language_info": {
   "codemirror_mode": {
    "name": "ipython",
    "version": 3
   },
   "file_extension": ".py",
   "mimetype": "text/x-python",
   "name": "python",
   "nbconvert_exporter": "python",
   "pygments_lexer": "ipython3",
   "version": "3.12.3"
  }
 },
 "nbformat": 4,
 "nbformat_minor": 2
}

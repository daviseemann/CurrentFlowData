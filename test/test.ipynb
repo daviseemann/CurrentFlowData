{
 "cells": [
  {
   "cell_type": "code",
   "execution_count": 4,
   "metadata": {},
   "outputs": [
    {
     "name": "stdout",
     "output_type": "stream",
     "text": [
      "User: postgres\n",
      "Password: admin321\n",
      "Database: current_flow_db\n",
      "Conectado ao PostgreSQL, versão: ('PostgreSQL 16.4 (Debian 16.4-1.pgdg120+1) on x86_64-pc-linux-gnu, compiled by gcc (Debian 12.2.0-14) 12.2.0, 64-bit',)\n",
      "Conexão com PostgreSQL fechada\n"
     ]
    }
   ],
   "source": [
    "import os\n",
    "from dotenv import load_dotenv\n",
    "import psycopg2\n",
    "\n",
    "load_dotenv()\n",
    "\n",
    "db_user = os.getenv(\"POSTGRES_USER\")\n",
    "db_password = os.getenv(\"POSTGRES_PASSWORD\")\n",
    "db_name = os.getenv(\"POSTGRES_DB\")\n",
    "\n",
    "print(f\"User: {db_user}\")\n",
    "print(f\"Password: {db_password}\")\n",
    "print(f\"Database: {db_name}\")\n",
    "\n",
    "try:\n",
    "    connection = psycopg2.connect(\n",
    "        host=\"localhost\",\n",
    "        port=\"5432\",\n",
    "        database=db_name,\n",
    "        user=db_user,\n",
    "        password=db_password,\n",
    "    )\n",
    "    cursor = connection.cursor()\n",
    "    cursor.execute(\"SELECT version();\")\n",
    "    db_version = cursor.fetchone()\n",
    "    print(f\"Conectado ao PostgreSQL, versão: {db_version}\")\n",
    "\n",
    "except (Exception, psycopg2.Error) as error:\n",
    "    print(\"Erro ao conectar ao banco de dados PostgreSQL:\", error)\n",
    "\n",
    "finally:\n",
    "    if \"connection\" in locals() and connection:\n",
    "        cursor.close()\n",
    "        connection.close()\n",
    "        print(\"Conexão com PostgreSQL fechada\")"
   ]
  },
  {
   "cell_type": "code",
   "execution_count": 7,
   "metadata": {},
   "outputs": [
    {
     "name": "stdout",
     "output_type": "stream",
     "text": [
      "           datname\n",
      "0         postgres\n",
      "1  current_flow_db\n",
      "Conexão com PostgreSQL fechada\n"
     ]
    }
   ],
   "source": [
    "import pandas as pd\n",
    "\n",
    "# Reconnect to the database\n",
    "try:\n",
    "    connection = psycopg2.connect(\n",
    "        host=\"localhost\",\n",
    "        port=\"5432\",\n",
    "        database=db_name,\n",
    "        user=db_user,\n",
    "        password=db_password,\n",
    "    )\n",
    "    cursor = connection.cursor()\n",
    "\n",
    "    # Execute a query to fetch data\n",
    "    query = \"SELECT datname FROM pg_database WHERE datistemplate = false;\"\n",
    "    cursor.execute(query)\n",
    "\n",
    "    # Load data into a pandas dataframe\n",
    "    df = pd.DataFrame(\n",
    "        cursor.fetchall(), columns=[desc[0] for desc in cursor.description]\n",
    "    )\n",
    "    print(df)\n",
    "\n",
    "except (Exception, psycopg2.Error) as error:\n",
    "    print(\"Erro ao conectar ao banco de dados PostgreSQL:\", error)\n",
    "\n",
    "finally:\n",
    "    if \"connection\" in locals() and connection:\n",
    "        cursor.close()\n",
    "        connection.close()\n",
    "        print(\"Conexão com PostgreSQL fechada\")"
   ]
  },
  {
   "cell_type": "code",
   "execution_count": null,
   "metadata": {},
   "outputs": [],
   "source": []
  }
 ],
 "metadata": {
  "kernelspec": {
   "display_name": "current-flow",
   "language": "python",
   "name": "python3"
  },
  "language_info": {
   "codemirror_mode": {
    "name": "ipython",
    "version": 3
   },
   "file_extension": ".py",
   "mimetype": "text/x-python",
   "name": "python",
   "nbconvert_exporter": "python",
   "pygments_lexer": "ipython3",
   "version": "3.12.3"
  }
 },
 "nbformat": 4,
 "nbformat_minor": 2
}

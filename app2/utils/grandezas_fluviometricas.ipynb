{
 "cells": [
  {
   "cell_type": "code",
   "execution_count": 4,
   "metadata": {},
   "outputs": [
    {
     "name": "stdout",
     "output_type": "stream",
     "text": [
      "   id_postofluv nom_postofluviometrico val_latitude val_longitude     nom_rio  \\\n",
      "0      15250001          GUAJARA MIRIM     -10.8806      -65.4778  RIO MAMORE   \n",
      "1      15250001          GUAJARA MIRIM     -10.8806      -65.4778  RIO MAMORE   \n",
      "2      15250001          GUAJARA MIRIM     -10.8806      -65.4778  RIO MAMORE   \n",
      "3      15250001          GUAJARA MIRIM     -10.8806      -65.4778  RIO MAMORE   \n",
      "4      15250001          GUAJARA MIRIM     -10.8806      -65.4778  RIO MAMORE   \n",
      "\n",
      "               nom_bacia din_medicao val_vazaomedia val_vazaomediaincr  \n",
      "0  BACIA DO RIO AMAZONAS  2015-01-01            NaN   6797.98681640625  \n",
      "1  BACIA DO RIO AMAZONAS  2015-01-02            NaN   6938.44775390625  \n",
      "2  BACIA DO RIO AMAZONAS  2015-01-03            NaN     7026.701171875  \n",
      "3  BACIA DO RIO AMAZONAS  2015-01-04            NaN        7054.046875  \n",
      "4  BACIA DO RIO AMAZONAS  2015-01-05            NaN   7115.83447265625  \n"
     ]
    }
   ],
   "source": [
    "import pandas as pd\n",
    "dataframe = pd.read_csv('data/GRANDEZAS_FLUVIOMETRICAS_2015.csv', sep=';', decimal=',')\n",
    "print(dataframe.head())"
   ]
  }
 ],
 "metadata": {
  "kernelspec": {
   "display_name": "Python 3",
   "language": "python",
   "name": "python3"
  },
  "language_info": {
   "codemirror_mode": {
    "name": "ipython",
    "version": 3
   },
   "file_extension": ".py",
   "mimetype": "text/x-python",
   "name": "python",
   "nbconvert_exporter": "python",
   "pygments_lexer": "ipython3",
   "version": "3.11.4"
  }
 },
 "nbformat": 4,
 "nbformat_minor": 2
}

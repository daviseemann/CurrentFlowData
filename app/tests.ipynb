{
 "cells": [
  {
   "cell_type": "code",
   "execution_count": 13,
   "metadata": {},
   "outputs": [
    {
     "name": "stdout",
     "output_type": "stream",
     "text": [
      "400\n"
     ]
    }
   ],
   "source": [
    "import ssl\n",
    "import json\n",
    "import urllib3\n",
    "import os\n",
    "\n",
    "# Load default SSL certificates and create an SSL context\n",
    "ctx = ssl.create_default_context()\n",
    "ctx.load_default_certs()\n",
    "# Allow connecting to a legacy server with unsafe renegotiation\n",
    "ctx.options |= 0x4 #ssl.OP_LEGACY_SERVER_CONNECT\n",
    "\n",
    "# The API endpoint for authentication\n",
    "url = \"https://integra.ons.org.br/api/autenticar\"\n",
    "\n",
    "api_user = os.getenv(\"API_USER\")\n",
    "api_password = os.getenv(\"API_PASSWORD\")\n",
    "\n",
    "# Credentials payload\n",
    "payload = json.dumps({\"usuario\": api_user, \"senha\": api_password})\n",
    "\n",
    "# HTTP headers for the request\n",
    "headers = {\n",
    "    \"Origin\": \"https://portal-integra.ons.org.br\",\n",
    "    \"Content-Type\": \"application/json\",\n",
    "}\n",
    "\n",
    "# Create a PoolManager with the SSL context for making the request\n",
    "with urllib3.PoolManager(ssl_context=ctx) as http:\n",
    "    # Make the POST request\n",
    "    response = http.request(\"POST\", url, body=payload, headers=headers)\n",
    "    # Print the status code of the response\n",
    "    print(response.status)\n",
    "    # Print and store the access token from the response JSON\n",
    "    # access_token = json.loads(response.data.decode(\"utf-8\"))[\"access_token\"]\n",
    "    # access_token = access_token  # Assumes this is part of a class"
   ]
  },
  {
   "cell_type": "code",
   "execution_count": null,
   "metadata": {},
   "outputs": [],
   "source": []
  }
 ],
 "metadata": {
  "kernelspec": {
   "display_name": "Python 3",
   "language": "python",
   "name": "python3"
  },
  "language_info": {
   "codemirror_mode": {
    "name": "ipython",
    "version": 3
   },
   "file_extension": ".py",
   "mimetype": "text/x-python",
   "name": "python",
   "nbconvert_exporter": "python",
   "pygments_lexer": "ipython3",
   "version": "3.12.3"
  }
 },
 "nbformat": 4,
 "nbformat_minor": 2
}

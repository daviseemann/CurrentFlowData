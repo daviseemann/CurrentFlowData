{
 "cells": [
  {
   "cell_type": "code",
   "execution_count": 11,
   "metadata": {},
   "outputs": [],
   "source": [
    "from utils.auth import authenticate\n",
    "import requests\n",
    "import json\n",
    "import ssl\n",
    "import urllib3"
   ]
  },
  {
   "cell_type": "code",
   "execution_count": 12,
   "metadata": {},
   "outputs": [],
   "source": [
    "token = authenticate()\n",
    "ctx = ssl.create_default_context()\n",
    "ctx.load_default_certs()\n",
    "# Allow connecting to a legacy server with unsafe renegotiation\n",
    "ctx.options |= 0x4  # ssl.OP_LEGACY_SERVER_CONNECT"
   ]
  },
  {
   "cell_type": "code",
   "execution_count": 15,
   "metadata": {},
   "outputs": [
    {
     "name": "stdout",
     "output_type": "stream",
     "text": [
      "{\"Data\":\"2024-04-29T20:32:00-03:00\",\"sudesteECentroOeste\":{\"geracao\":{\"total\":38635.8,\"hidraulica\":26855.87,\"termica\":3404.16138,\"eolica\":4.0,\"nuclear\":2002.25525,\"solar\":6.381408,\"itaipu50HzBrasil\":2022.51,\"itaipu60Hz\":4340.62451},\"cargaVerificada\":53091.2969,\"importacao\":14455.4951,\"exportacao\":0.0},\"sul\":{\"geracao\":{\"total\":15299.8223,\"hidraulica\":13626.2031,\"termica\":423.656982,\"eolica\":1248.962,\"nuclear\":0.0,\"solar\":1.0},\"cargaVerificada\":15148.9346,\"importacao\":0.0,\"exportacao\":150.887573},\"nordeste\":{\"geracao\":{\"total\":19142.8711,\"hidraulica\":6019.633,\"termica\":480.814026,\"eolica\":12640.7842,\"nuclear\":0.0,\"solar\":1.64046085},\"cargaVerificada\":13947.1064,\"importacao\":0.0,\"exportacao\":5197.774},\"norte\":{\"geracao\":{\"total\":17147.1055,\"hidraulica\":15866.165,\"termica\":1118.32751,\"eolica\":162.612885,\"nuclear\":0.0,\"solar\":0.0},\"cargaVerificada\":8039.579,\"importacao\":0.0,\"exportacao\":9107.526},\"internacional\":{\"argentina\":-0.0020888173,\"paraguai\":0.0,\"uruguai\":0.761000037},\"intercambio\":{\"internacional_sul\":-0.6930612,\"sul_sudeste\":150.194519,\"sudeste_nordeste\":-660.149,\"sudeste_norteFic\":-13645.1514,\"norte_norteFic\":9107.526,\"norteFic_nordeste\":-4537.625}}\n"
     ]
    }
   ],
   "source": [
    "with urllib3.PoolManager(ssl_context=ctx) as http:\n",
    "    test = http.request(\"GET\",\n",
    "        \"https://integra.ons.org.br/api/energiaagora/GetBalancoEnergetico/null\",\n",
    "        headers={\"Authorization\": f\"Bearer {token['access_token']}\"},\n",
    "    )\n",
    "    print(test.data.decode(\"utf-8\"))"
   ]
  },
  {
   "cell_type": "code",
   "execution_count": null,
   "metadata": {},
   "outputs": [],
   "source": []
  }
 ],
 "metadata": {
  "kernelspec": {
   "display_name": "Python 3",
   "language": "python",
   "name": "python3"
  },
  "language_info": {
   "codemirror_mode": {
    "name": "ipython",
    "version": 3
   },
   "file_extension": ".py",
   "mimetype": "text/x-python",
   "name": "python",
   "nbconvert_exporter": "python",
   "pygments_lexer": "ipython3",
   "version": "3.12.3"
  }
 },
 "nbformat": 4,
 "nbformat_minor": 2
}

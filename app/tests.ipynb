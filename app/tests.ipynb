{
 "cells": [
  {
   "cell_type": "code",
   "execution_count": 31,
   "metadata": {},
   "outputs": [],
   "source": [
    "from utils.auth import authenticate\n",
    "from utils.http_requests import get_ssl_context\n",
    "import json"
   ]
  },
  {
   "cell_type": "code",
   "execution_count": 32,
   "metadata": {},
   "outputs": [],
   "source": [
    "token = authenticate()\n",
    "http = get_ssl_context()"
   ]
  },
  {
   "cell_type": "code",
   "execution_count": 33,
   "metadata": {},
   "outputs": [],
   "source": [
    "test = http.request(\"GET\",\n",
    "        \"https://integra.ons.org.br/api/energiaagora/GetBalancoEnergetico/null\",\n",
    "        headers={\"Authorization\": f\"Bearer {token['access_token']}\"},\n",
    "    )\n",
    "data = test.data.decode(\"utf-8\")\n",
    "data_json = json.loads(data)"
   ]
  }
 ],
 "metadata": {
  "kernelspec": {
   "display_name": "Python 3",
   "language": "python",
   "name": "python3"
  },
  "language_info": {
   "codemirror_mode": {
    "name": "ipython",
    "version": 3
   },
   "file_extension": ".py",
   "mimetype": "text/x-python",
   "name": "python",
   "nbconvert_exporter": "python",
   "pygments_lexer": "ipython3",
   "version": "3.12.3"
  }
 },
 "nbformat": 4,
 "nbformat_minor": 2
}
